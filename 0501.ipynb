{
  "nbformat": 4,
  "nbformat_minor": 0,
  "metadata": {
    "colab": {
      "provenance": [],
      "authorship_tag": "ABX9TyOkZItlDe2aB1MMrx2e+Gi7",
      "include_colab_link": true
    },
    "kernelspec": {
      "name": "python3",
      "display_name": "Python 3"
    },
    "language_info": {
      "name": "python"
    }
  },
  "cells": [
    {
      "cell_type": "markdown",
      "metadata": {
        "id": "view-in-github",
        "colab_type": "text"
      },
      "source": [
        "<a href=\"https://colab.research.google.com/github/Huizhennn/0306/blob/main/0501.ipynb\" target=\"_parent\"><img src=\"https://colab.research.google.com/assets/colab-badge.svg\" alt=\"Open In Colab\"/></a>"
      ]
    },
    {
      "cell_type": "code",
      "execution_count": 1,
      "metadata": {
        "colab": {
          "base_uri": "https://localhost:8080/"
        },
        "id": "5fUuPnz4P05x",
        "outputId": "b1007395-6127-4e98-c96f-9f184427ca62"
      },
      "outputs": [
        {
          "output_type": "stream",
          "name": "stdout",
          "text": [
            "hello world\n"
          ]
        }
      ],
      "source": [
        "print(\"hello world\")"
      ]
    },
    {
      "cell_type": "code",
      "source": [
        "F=float(input(\"華氏溫度\"))\n",
        "攝氏溫度=(F-32)*5/9\n",
        "print(\"轉換後之攝氏溫度:\"+str(攝氏溫度))\n"
      ],
      "metadata": {
        "colab": {
          "base_uri": "https://localhost:8080/"
        },
        "id": "U0n3FMdaQRL0",
        "outputId": "e6b8b1bc-feb7-4978-c5a5-f4b6114aa4ef"
      },
      "execution_count": 14,
      "outputs": [
        {
          "output_type": "stream",
          "name": "stdout",
          "text": [
            "華氏溫度100\n",
            "轉換後之攝氏溫度:37.77777777777778\n"
          ]
        }
      ]
    },
    {
      "cell_type": "code",
      "source": [
        "tmp=0\n",
        "for i in range(1,6):\n",
        "  tmp +=i\n",
        "print('%d'% tmp)"
      ],
      "metadata": {
        "colab": {
          "base_uri": "https://localhost:8080/"
        },
        "id": "bpc0SWFPQRWL",
        "outputId": "78c35612-55ef-4114-da08-fc07aaec81a1"
      },
      "execution_count": 16,
      "outputs": [
        {
          "output_type": "stream",
          "name": "stdout",
          "text": [
            "15\n"
          ]
        }
      ]
    },
    {
      "cell_type": "code",
      "source": [
        "a=float(input(\"請輸入本金存款\"))\n",
        "years=a*1.02**6\n",
        "print(\"六年後存款為:\"+str(years))"
      ],
      "metadata": {
        "colab": {
          "base_uri": "https://localhost:8080/"
        },
        "id": "Y42rjSqeQRZb",
        "outputId": "a8268a0f-3012-4998-af88-ea2940c9dbc8"
      },
      "execution_count": 19,
      "outputs": [
        {
          "output_type": "stream",
          "name": "stdout",
          "text": [
            "請輸入本金存款10000\n",
            "六年後存款為:11261.62419264\n"
          ]
        }
      ]
    }
  ]
}