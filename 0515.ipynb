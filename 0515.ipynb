{
  "nbformat": 4,
  "nbformat_minor": 0,
  "metadata": {
    "colab": {
      "provenance": [],
      "authorship_tag": "ABX9TyO5bXgxs8SXU+HSjUtLN65b",
      "include_colab_link": true
    },
    "kernelspec": {
      "name": "python3",
      "display_name": "Python 3"
    },
    "language_info": {
      "name": "python"
    }
  },
  "cells": [
    {
      "cell_type": "markdown",
      "metadata": {
        "id": "view-in-github",
        "colab_type": "text"
      },
      "source": [
        "<a href=\"https://colab.research.google.com/github/Huizhennn/0306/blob/main/0515.ipynb\" target=\"_parent\"><img src=\"https://colab.research.google.com/assets/colab-badge.svg\" alt=\"Open In Colab\"/></a>"
      ]
    },
    {
      "cell_type": "code",
      "execution_count": 3,
      "metadata": {
        "colab": {
          "base_uri": "https://localhost:8080/",
          "height": 237
        },
        "id": "YbtLeVpjTzZL",
        "outputId": "fd4a55c7-5166-486a-9948-076d7bd72832"
      },
      "outputs": [
        {
          "output_type": "error",
          "ename": "SyntaxError",
          "evalue": "ignored",
          "traceback": [
            "\u001b[0;36m  File \u001b[0;32m\"<ipython-input-3-271414c594c4>\"\u001b[0;36m, line \u001b[0;32m3\u001b[0m\n\u001b[0;31m    print('Grade is: A')\u001b[0m\n\u001b[0m    ^\u001b[0m\n\u001b[0;31mSyntaxError\u001b[0m\u001b[0;31m:\u001b[0m invalid non-printable character U+00A0\n"
          ]
        }
      ],
      "source": [
        "score = int(input(\"score: \"))\n",
        "if score >= 90:\n",
        "   print('Grade is: A')\n",
        "elif score >= 80:\n",
        "   print('Grade is: B')\n",
        "elif score >= 70:\n",
        "   print('Grade is: C')\n",
        "elif score >= 60:\n",
        "   print('Grade is: D')\n",
        "else:\n",
        "   print('Grade is: F')"
      ]
    },
    {
      "cell_type": "code",
      "source": [
        "月份 = int(input(\"月份: \"))\n",
        "if 月份=3 or 4 or 5 :\n",
        "    print('月份是春天')\n",
        "elif 月份=6 or 7 or 8:\n",
        "    print('月份是夏天')\n",
        "elif score=9 or 10 or 11:\n",
        "    print('月份是秋天')\n",
        "elif score= 12 or 1 or2 :\n",
        "    print('月份是冬天')\n",
        "else:\n",
        "    print('月份不在範圍內')"
      ],
      "metadata": {
        "id": "u-2mCU6ZUArR"
      },
      "execution_count": null,
      "outputs": []
    },
    {
      "cell_type": "code",
      "source": [],
      "metadata": {
        "id": "2FxTwLW4V0UK"
      },
      "execution_count": null,
      "outputs": []
    }
  ]
}